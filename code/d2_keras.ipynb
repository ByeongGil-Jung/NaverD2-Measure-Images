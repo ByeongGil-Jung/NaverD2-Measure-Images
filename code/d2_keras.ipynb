{
 "cells": [
  {
   "cell_type": "markdown",
   "metadata": {},
   "source": [
    "# Keras CNN"
   ]
  },
  {
   "cell_type": "markdown",
   "metadata": {},
   "source": [
    "(Dataset is secret)"
   ]
  },
  {
   "cell_type": "markdown",
   "metadata": {},
   "source": [
    "### Read Data"
   ]
  },
  {
   "cell_type": "code",
   "execution_count": 1,
   "metadata": {},
   "outputs": [],
   "source": [
    "import cv2\n",
    "import glob\n",
    "import pandas as pd\n",
    "\n",
    "abst_filename_list = [img for img in glob.glob(\"../dataset/*.jpg\")]\n",
    "\n",
    "filename_list = [name.split(\"./dataset\\\\\")[1] for name in abst_filename_list]\n",
    "filename_list = [name.split(\".jpg\")[0] for name in filename_list]\n",
    "\n",
    "model_id_list = list()\n",
    "product_id_list = list()\n",
    "image_id_list = list()\n",
    "\n",
    "for info in [filename.split(\"_\") for filename in filename_list]:\n",
    "    model_id_list.append(info[0])\n",
    "    product_id_list.append(info[1])\n",
    "    image_id_list.append(info[2])\n",
    "    \n",
    "dataset_list = list(zip(abst_filename_list, filename_list, model_id_list, product_id_list, image_id_list))\n",
    "\n",
    "df = pd.DataFrame(dataset_list, columns=[\"absolute_path\", \"file_name\", \"model_id\", \"product_id_list\", \"image_id_list\"])\n",
    "\n",
    "del abst_filename_list, model_id_list, product_id_list, image_id_list, filename_list, dataset_list"
   ]
  },
  {
   "cell_type": "code",
   "execution_count": 2,
   "metadata": {
    "scrolled": true
   },
   "outputs": [],
   "source": [
    "converted_id_dict = dict()\n",
    "converted_id_list = list()\n",
    "\n",
    "labels = [int(id) for id in df[\"model_id\"]]\n",
    "labels_set = list(set(labels))\n",
    "\n",
    "for i, id_ in enumerate(labels_set):\n",
    "    converted_id_dict[id_] = i\n",
    "\n",
    "for label in labels:\n",
    "    converted_id_list.append(converted_id_dict.get(label))\n",
    "\n",
    "df[\"label\"] = converted_id_list"
   ]
  },
  {
   "cell_type": "code",
   "execution_count": 3,
   "metadata": {
    "scrolled": false
   },
   "outputs": [
    {
     "data": {
      "text/html": [
       "<div>\n",
       "<style scoped>\n",
       "    .dataframe tbody tr th:only-of-type {\n",
       "        vertical-align: middle;\n",
       "    }\n",
       "\n",
       "    .dataframe tbody tr th {\n",
       "        vertical-align: top;\n",
       "    }\n",
       "\n",
       "    .dataframe thead th {\n",
       "        text-align: right;\n",
       "    }\n",
       "</style>\n",
       "<table border=\"1\" class=\"dataframe\">\n",
       "  <thead>\n",
       "    <tr style=\"text-align: right;\">\n",
       "      <th></th>\n",
       "      <th>absolute_path</th>\n",
       "      <th>file_name</th>\n",
       "      <th>model_id</th>\n",
       "      <th>product_id_list</th>\n",
       "      <th>image_id_list</th>\n",
       "      <th>label</th>\n",
       "    </tr>\n",
       "  </thead>\n",
       "  <tbody>\n",
       "    <tr>\n",
       "      <th>0</th>\n",
       "      <td>../train\\10047545284_10226223039_0.jpg</td>\n",
       "      <td>10047545284_10226223039_0</td>\n",
       "      <td>10047545284</td>\n",
       "      <td>10226223039</td>\n",
       "      <td>0</td>\n",
       "      <td>134</td>\n",
       "    </tr>\n",
       "    <tr>\n",
       "      <th>1</th>\n",
       "      <td>../train\\10047545284_10226256889_0.jpg</td>\n",
       "      <td>10047545284_10226256889_0</td>\n",
       "      <td>10047545284</td>\n",
       "      <td>10226256889</td>\n",
       "      <td>0</td>\n",
       "      <td>134</td>\n",
       "    </tr>\n",
       "    <tr>\n",
       "      <th>2</th>\n",
       "      <td>../train\\10047545284_10226293526_0.jpg</td>\n",
       "      <td>10047545284_10226293526_0</td>\n",
       "      <td>10047545284</td>\n",
       "      <td>10226293526</td>\n",
       "      <td>0</td>\n",
       "      <td>134</td>\n",
       "    </tr>\n",
       "    <tr>\n",
       "      <th>3</th>\n",
       "      <td>../train\\10047545284_10321296333_0.jpg</td>\n",
       "      <td>10047545284_10321296333_0</td>\n",
       "      <td>10047545284</td>\n",
       "      <td>10321296333</td>\n",
       "      <td>0</td>\n",
       "      <td>134</td>\n",
       "    </tr>\n",
       "    <tr>\n",
       "      <th>4</th>\n",
       "      <td>../train\\10047545284_10321296355_0.jpg</td>\n",
       "      <td>10047545284_10321296355_0</td>\n",
       "      <td>10047545284</td>\n",
       "      <td>10321296355</td>\n",
       "      <td>0</td>\n",
       "      <td>134</td>\n",
       "    </tr>\n",
       "  </tbody>\n",
       "</table>\n",
       "</div>"
      ],
      "text/plain": [
       "                            absolute_path                  file_name  \\\n",
       "0  ../train\\10047545284_10226223039_0.jpg  10047545284_10226223039_0   \n",
       "1  ../train\\10047545284_10226256889_0.jpg  10047545284_10226256889_0   \n",
       "2  ../train\\10047545284_10226293526_0.jpg  10047545284_10226293526_0   \n",
       "3  ../train\\10047545284_10321296333_0.jpg  10047545284_10321296333_0   \n",
       "4  ../train\\10047545284_10321296355_0.jpg  10047545284_10321296355_0   \n",
       "\n",
       "      model_id product_id_list image_id_list  label  \n",
       "0  10047545284     10226223039             0    134  \n",
       "1  10047545284     10226256889             0    134  \n",
       "2  10047545284     10226293526             0    134  \n",
       "3  10047545284     10321296333             0    134  \n",
       "4  10047545284     10321296355             0    134  "
      ]
     },
     "execution_count": 3,
     "metadata": {},
     "output_type": "execute_result"
    }
   ],
   "source": [
    "df.head()"
   ]
  },
  {
   "cell_type": "markdown",
   "metadata": {},
   "source": [
    "### Read Features"
   ]
  },
  {
   "cell_type": "code",
   "execution_count": 4,
   "metadata": {},
   "outputs": [],
   "source": [
    "import os\n",
    "import numpy as np\n",
    "\n",
    "import tensorflow.keras as k"
   ]
  },
  {
   "cell_type": "code",
   "execution_count": 5,
   "metadata": {},
   "outputs": [],
   "source": [
    "dataset = list()\n",
    "label_dataset = list()\n",
    "\n",
    "img_size = 50\n",
    "\n",
    "for path in df[\"absolute_path\"]:\n",
    "    img = cv2.imread(path, cv2.IMREAD_COLOR)\n",
    "    img = cv2.resize(img, (img_size, img_size), interpolation=cv2.INTER_CUBIC)\n",
    "    dataset.append(np.array(img))\n",
    "    \n",
    "reshaped_dataset = np.array([np.reshape(data, (img_size, img_size, 3)) for data in dataset])\n",
    "label_dataset = np.array([[label] for label in df[\"label\"]])"
   ]
  },
  {
   "cell_type": "code",
   "execution_count": 6,
   "metadata": {},
   "outputs": [
    {
     "name": "stdout",
     "output_type": "stream",
     "text": [
      "Dataset Shape : (10618, 50, 50, 3)\n",
      "Label Shape : (10618, 1)\n"
     ]
    }
   ],
   "source": [
    "print(\"Dataset Shape : {}\".format(reshaped_dataset.shape))\n",
    "print(\"Label Shape : {}\".format(label_dataset.shape))"
   ]
  },
  {
   "cell_type": "code",
   "execution_count": 7,
   "metadata": {},
   "outputs": [],
   "source": [
    "num_classes = 153\n",
    "\n",
    "label_dataset_one_hot = k.utils.to_categorical(label_dataset, num_classes)"
   ]
  },
  {
   "cell_type": "code",
   "execution_count": 8,
   "metadata": {},
   "outputs": [],
   "source": [
    "reshaped_dataset = reshaped_dataset.astype(\"float32\")\n",
    "reshaped_dataset /= 255."
   ]
  },
  {
   "cell_type": "code",
   "execution_count": 9,
   "metadata": {},
   "outputs": [],
   "source": [
    "from sklearn.model_selection import train_test_split\n",
    "\n",
    "X_train, X_test, y_train, y_test = train_test_split(\n",
    "    reshaped_dataset,\n",
    "    label_dataset_one_hot,\n",
    "    test_size=0.3,\n",
    "    random_state=1\n",
    ")"
   ]
  },
  {
   "cell_type": "markdown",
   "metadata": {},
   "source": [
    "### Making Model"
   ]
  },
  {
   "cell_type": "code",
   "execution_count": 10,
   "metadata": {},
   "outputs": [],
   "source": [
    "from tensorflow.keras.models import Sequential\n",
    "from tensorflow.keras.layers import Dense, Conv2D, MaxPooling2D, Dropout, Flatten"
   ]
  },
  {
   "cell_type": "code",
   "execution_count": 11,
   "metadata": {},
   "outputs": [],
   "source": [
    "model = Sequential()\n",
    "\n",
    "model.add(Conv2D(32, (3, 3), padding=\"same\", activation=\"relu\", input_shape=X_train.shape[1:]))\n",
    "model.add(Conv2D(32, (3, 3), activation=\"relu\"))\n",
    "model.add(MaxPooling2D(pool_size=(2)))\n",
    "model.add(Dropout(0.25))\n",
    "\n",
    "model.add(Conv2D(64, (3, 3), padding=\"same\", activation=\"relu\"))\n",
    "model.add(Conv2D(64, (3, 3), activation=\"relu\"))\n",
    "model.add(MaxPooling2D(pool_size=(2)))\n",
    "model.add(Dropout(0.25))\n",
    "\n",
    "model.add(Flatten())\n",
    "model.add(Dense(1024, activation=\"relu\"))\n",
    "model.add(Dropout(0.5))\n",
    "model.add(Dense(512, activation=\"relu\"))\n",
    "model.add(Dropout(0.5))\n",
    "model.add(Dense(num_classes, activation=\"softmax\"))"
   ]
  },
  {
   "cell_type": "code",
   "execution_count": 12,
   "metadata": {},
   "outputs": [
    {
     "name": "stdout",
     "output_type": "stream",
     "text": [
      "_________________________________________________________________\n",
      "Layer (type)                 Output Shape              Param #   \n",
      "=================================================================\n",
      "conv2d (Conv2D)              (None, 50, 50, 32)        896       \n",
      "_________________________________________________________________\n",
      "conv2d_1 (Conv2D)            (None, 48, 48, 32)        9248      \n",
      "_________________________________________________________________\n",
      "max_pooling2d (MaxPooling2D) (None, 24, 24, 32)        0         \n",
      "_________________________________________________________________\n",
      "dropout (Dropout)            (None, 24, 24, 32)        0         \n",
      "_________________________________________________________________\n",
      "conv2d_2 (Conv2D)            (None, 24, 24, 64)        18496     \n",
      "_________________________________________________________________\n",
      "conv2d_3 (Conv2D)            (None, 22, 22, 64)        36928     \n",
      "_________________________________________________________________\n",
      "max_pooling2d_1 (MaxPooling2 (None, 11, 11, 64)        0         \n",
      "_________________________________________________________________\n",
      "dropout_1 (Dropout)          (None, 11, 11, 64)        0         \n",
      "_________________________________________________________________\n",
      "flatten (Flatten)            (None, 7744)              0         \n",
      "_________________________________________________________________\n",
      "dense (Dense)                (None, 1024)              7930880   \n",
      "_________________________________________________________________\n",
      "dropout_2 (Dropout)          (None, 1024)              0         \n",
      "_________________________________________________________________\n",
      "dense_1 (Dense)              (None, 512)               524800    \n",
      "_________________________________________________________________\n",
      "dropout_3 (Dropout)          (None, 512)               0         \n",
      "_________________________________________________________________\n",
      "dense_2 (Dense)              (None, 153)               78489     \n",
      "=================================================================\n",
      "Total params: 8,599,737\n",
      "Trainable params: 8,599,737\n",
      "Non-trainable params: 0\n",
      "_________________________________________________________________\n"
     ]
    }
   ],
   "source": [
    "model.summary()"
   ]
  },
  {
   "cell_type": "code",
   "execution_count": 13,
   "metadata": {},
   "outputs": [],
   "source": [
    "epochs = 100\n",
    "batch_size = 128\n",
    "lr = 0.0001\n",
    "decay = 1e-6\n",
    "\n",
    "optimizer = k.optimizers.RMSprop(lr=lr, decay=decay)\n",
    "model.compile(optimizer=optimizer, loss=\"categorical_crossentropy\", metrics=[\"accuracy\"])"
   ]
  },
  {
   "cell_type": "code",
   "execution_count": 14,
   "metadata": {
    "scrolled": false
   },
   "outputs": [
    {
     "name": "stdout",
     "output_type": "stream",
     "text": [
      "Train on 7432 samples, validate on 3186 samples\n",
      "Epoch 1/100\n",
      " - 9s - loss: 5.0194 - acc: 0.0131 - val_loss: 4.9868 - val_acc: 0.0468\n",
      "Epoch 2/100\n",
      " - 3s - loss: 4.9385 - acc: 0.0447 - val_loss: 4.7647 - val_acc: 0.0995\n",
      "Epoch 3/100\n",
      " - 3s - loss: 4.6089 - acc: 0.1010 - val_loss: 4.1752 - val_acc: 0.1877\n",
      "Epoch 4/100\n",
      " - 3s - loss: 4.0979 - acc: 0.1759 - val_loss: 3.6156 - val_acc: 0.3258\n",
      "Epoch 5/100\n",
      " - 3s - loss: 3.6283 - acc: 0.2550 - val_loss: 3.0122 - val_acc: 0.4567\n",
      "Epoch 6/100\n",
      " - 3s - loss: 3.1828 - acc: 0.3291 - val_loss: 2.5170 - val_acc: 0.5832\n",
      "Epoch 7/100\n",
      " - 3s - loss: 2.7812 - acc: 0.4084 - val_loss: 1.9558 - val_acc: 0.6466\n",
      "Epoch 8/100\n",
      " - 3s - loss: 2.4783 - acc: 0.4658 - val_loss: 1.7088 - val_acc: 0.7059\n",
      "Epoch 9/100\n",
      " - 3s - loss: 2.1595 - acc: 0.5250 - val_loss: 1.3993 - val_acc: 0.7363\n",
      "Epoch 10/100\n",
      " - 3s - loss: 1.9394 - acc: 0.5717 - val_loss: 1.1870 - val_acc: 0.7665\n",
      "Epoch 11/100\n",
      " - 3s - loss: 1.7326 - acc: 0.6167 - val_loss: 1.0616 - val_acc: 0.7847\n",
      "Epoch 12/100\n",
      " - 3s - loss: 1.5453 - acc: 0.6498 - val_loss: 0.9620 - val_acc: 0.8104\n",
      "Epoch 13/100\n",
      " - 3s - loss: 1.4226 - acc: 0.6775 - val_loss: 0.8780 - val_acc: 0.8252\n",
      "Epoch 14/100\n",
      " - 3s - loss: 1.2912 - acc: 0.7051 - val_loss: 0.7977 - val_acc: 0.8305\n",
      "Epoch 15/100\n",
      " - 3s - loss: 1.2043 - acc: 0.7203 - val_loss: 0.7749 - val_acc: 0.8343\n",
      "Epoch 16/100\n",
      " - 3s - loss: 1.1032 - acc: 0.7465 - val_loss: 0.7059 - val_acc: 0.8497\n",
      "Epoch 17/100\n",
      " - 3s - loss: 1.0054 - acc: 0.7709 - val_loss: 0.6951 - val_acc: 0.8509\n",
      "Epoch 18/100\n",
      " - 3s - loss: 0.9190 - acc: 0.7807 - val_loss: 0.6351 - val_acc: 0.8638\n",
      "Epoch 19/100\n",
      " - 3s - loss: 0.8784 - acc: 0.7892 - val_loss: 0.6358 - val_acc: 0.8685\n",
      "Epoch 20/100\n",
      " - 3s - loss: 0.8086 - acc: 0.8029 - val_loss: 0.5912 - val_acc: 0.8763\n",
      "Epoch 21/100\n",
      " - 3s - loss: 0.7448 - acc: 0.8219 - val_loss: 0.5845 - val_acc: 0.8751\n",
      "Epoch 22/100\n",
      " - 3s - loss: 0.6951 - acc: 0.8314 - val_loss: 0.5707 - val_acc: 0.8795\n",
      "Epoch 23/100\n",
      " - 3s - loss: 0.6366 - acc: 0.8445 - val_loss: 0.5802 - val_acc: 0.8782\n",
      "Epoch 24/100\n",
      " - 3s - loss: 0.6147 - acc: 0.8462 - val_loss: 0.5081 - val_acc: 0.8933\n",
      "Epoch 25/100\n",
      " - 3s - loss: 0.5808 - acc: 0.8548 - val_loss: 0.5014 - val_acc: 0.8949\n",
      "Epoch 26/100\n",
      " - 3s - loss: 0.5385 - acc: 0.8618 - val_loss: 0.4755 - val_acc: 0.8980\n",
      "Epoch 27/100\n",
      " - 3s - loss: 0.5050 - acc: 0.8700 - val_loss: 0.4856 - val_acc: 0.8986\n",
      "Epoch 28/100\n",
      " - 3s - loss: 0.4773 - acc: 0.8772 - val_loss: 0.4641 - val_acc: 0.9055\n",
      "Epoch 29/100\n",
      " - 3s - loss: 0.4486 - acc: 0.8827 - val_loss: 0.4597 - val_acc: 0.9052\n",
      "Epoch 30/100\n",
      " - 3s - loss: 0.4197 - acc: 0.8914 - val_loss: 0.4347 - val_acc: 0.9090\n",
      "Epoch 31/100\n",
      " - 3s - loss: 0.3964 - acc: 0.8956 - val_loss: 0.4406 - val_acc: 0.9043\n",
      "Epoch 32/100\n",
      " - 3s - loss: 0.3691 - acc: 0.9022 - val_loss: 0.4264 - val_acc: 0.9118\n",
      "Epoch 33/100\n",
      " - 3s - loss: 0.3515 - acc: 0.9045 - val_loss: 0.4231 - val_acc: 0.9131\n",
      "Epoch 34/100\n",
      " - 3s - loss: 0.3318 - acc: 0.9104 - val_loss: 0.4156 - val_acc: 0.9153\n",
      "Epoch 35/100\n",
      " - 3s - loss: 0.3211 - acc: 0.9150 - val_loss: 0.4122 - val_acc: 0.9181\n",
      "Epoch 36/100\n",
      " - 3s - loss: 0.2938 - acc: 0.9221 - val_loss: 0.4132 - val_acc: 0.9203\n",
      "Epoch 37/100\n",
      " - 3s - loss: 0.2758 - acc: 0.9247 - val_loss: 0.4120 - val_acc: 0.9181\n",
      "Epoch 38/100\n",
      " - 3s - loss: 0.2572 - acc: 0.9284 - val_loss: 0.4184 - val_acc: 0.9131\n",
      "Epoch 39/100\n",
      " - 3s - loss: 0.2443 - acc: 0.9259 - val_loss: 0.4100 - val_acc: 0.9175\n",
      "Epoch 40/100\n",
      " - 3s - loss: 0.2284 - acc: 0.9358 - val_loss: 0.4096 - val_acc: 0.9218\n",
      "Epoch 41/100\n",
      " - 3s - loss: 0.2185 - acc: 0.9381 - val_loss: 0.3938 - val_acc: 0.9240\n",
      "Epoch 42/100\n",
      " - 3s - loss: 0.2045 - acc: 0.9431 - val_loss: 0.4176 - val_acc: 0.9256\n",
      "Epoch 43/100\n",
      " - 3s - loss: 0.2050 - acc: 0.9395 - val_loss: 0.4029 - val_acc: 0.9294\n",
      "Epoch 44/100\n",
      " - 3s - loss: 0.1874 - acc: 0.9479 - val_loss: 0.3991 - val_acc: 0.9275\n",
      "Epoch 45/100\n",
      " - 3s - loss: 0.1842 - acc: 0.9471 - val_loss: 0.4186 - val_acc: 0.9222\n",
      "Epoch 46/100\n",
      " - 3s - loss: 0.1627 - acc: 0.9513 - val_loss: 0.4326 - val_acc: 0.9196\n",
      "Epoch 47/100\n",
      " - 3s - loss: 0.1694 - acc: 0.9529 - val_loss: 0.4131 - val_acc: 0.9250\n",
      "Epoch 48/100\n",
      " - 3s - loss: 0.1528 - acc: 0.9569 - val_loss: 0.4124 - val_acc: 0.9288\n",
      "Epoch 49/100\n",
      " - 3s - loss: 0.1507 - acc: 0.9572 - val_loss: 0.4128 - val_acc: 0.9259\n",
      "Epoch 50/100\n",
      " - 3s - loss: 0.1499 - acc: 0.9575 - val_loss: 0.4071 - val_acc: 0.9278\n",
      "Epoch 51/100\n",
      " - 3s - loss: 0.1469 - acc: 0.9587 - val_loss: 0.4065 - val_acc: 0.9309\n",
      "Epoch 52/100\n",
      " - 3s - loss: 0.1388 - acc: 0.9608 - val_loss: 0.4199 - val_acc: 0.9275\n",
      "Epoch 53/100\n",
      " - 3s - loss: 0.1275 - acc: 0.9665 - val_loss: 0.4128 - val_acc: 0.9262\n",
      "Epoch 54/100\n",
      " - 3s - loss: 0.1340 - acc: 0.9595 - val_loss: 0.4243 - val_acc: 0.9247\n",
      "Epoch 55/100\n",
      " - 3s - loss: 0.1220 - acc: 0.9678 - val_loss: 0.4160 - val_acc: 0.9262\n",
      "Epoch 56/100\n",
      " - 3s - loss: 0.1181 - acc: 0.9657 - val_loss: 0.4175 - val_acc: 0.9284\n",
      "Epoch 57/100\n",
      " - 3s - loss: 0.1029 - acc: 0.9680 - val_loss: 0.4352 - val_acc: 0.9275\n",
      "Epoch 58/100\n",
      " - 3s - loss: 0.1097 - acc: 0.9680 - val_loss: 0.4220 - val_acc: 0.9262\n",
      "Epoch 59/100\n",
      " - 3s - loss: 0.1006 - acc: 0.9703 - val_loss: 0.4242 - val_acc: 0.9297\n",
      "Epoch 60/100\n",
      " - 3s - loss: 0.1035 - acc: 0.9699 - val_loss: 0.4257 - val_acc: 0.9297\n",
      "Epoch 61/100\n",
      " - 3s - loss: 0.0983 - acc: 0.9717 - val_loss: 0.4265 - val_acc: 0.9294\n",
      "Epoch 62/100\n",
      " - 3s - loss: 0.0958 - acc: 0.9734 - val_loss: 0.4243 - val_acc: 0.9253\n",
      "Epoch 63/100\n",
      " - 3s - loss: 0.0863 - acc: 0.9758 - val_loss: 0.4328 - val_acc: 0.9250\n",
      "Epoch 64/100\n",
      " - 3s - loss: 0.0970 - acc: 0.9742 - val_loss: 0.4308 - val_acc: 0.9253\n",
      "Epoch 65/100\n",
      " - 3s - loss: 0.0824 - acc: 0.9736 - val_loss: 0.4228 - val_acc: 0.9250\n",
      "Epoch 66/100\n",
      " - 3s - loss: 0.0812 - acc: 0.9775 - val_loss: 0.4403 - val_acc: 0.9272\n",
      "Epoch 67/100\n",
      " - 3s - loss: 0.0825 - acc: 0.9763 - val_loss: 0.4304 - val_acc: 0.9288\n",
      "Epoch 68/100\n",
      " - 3s - loss: 0.0842 - acc: 0.9767 - val_loss: 0.4277 - val_acc: 0.9272\n",
      "Epoch 69/100\n",
      " - 3s - loss: 0.0847 - acc: 0.9750 - val_loss: 0.4310 - val_acc: 0.9319\n",
      "Epoch 70/100\n",
      " - 3s - loss: 0.0788 - acc: 0.9765 - val_loss: 0.4203 - val_acc: 0.9266\n",
      "Epoch 71/100\n",
      " - 3s - loss: 0.0773 - acc: 0.9771 - val_loss: 0.4323 - val_acc: 0.9300\n",
      "Epoch 72/100\n",
      " - 3s - loss: 0.0726 - acc: 0.9775 - val_loss: 0.4466 - val_acc: 0.9294\n",
      "Epoch 73/100\n",
      " - 3s - loss: 0.0658 - acc: 0.9816 - val_loss: 0.4470 - val_acc: 0.9319\n",
      "Epoch 74/100\n",
      " - 3s - loss: 0.0712 - acc: 0.9793 - val_loss: 0.4390 - val_acc: 0.9269\n",
      "Epoch 75/100\n",
      " - 3s - loss: 0.0618 - acc: 0.9816 - val_loss: 0.4603 - val_acc: 0.9237\n",
      "Epoch 76/100\n",
      " - 3s - loss: 0.0610 - acc: 0.9822 - val_loss: 0.4450 - val_acc: 0.9291\n",
      "Epoch 77/100\n",
      " - 3s - loss: 0.0638 - acc: 0.9797 - val_loss: 0.4543 - val_acc: 0.9262\n",
      "Epoch 78/100\n",
      " - 3s - loss: 0.0541 - acc: 0.9836 - val_loss: 0.4701 - val_acc: 0.9259\n",
      "Epoch 79/100\n",
      " - 3s - loss: 0.0645 - acc: 0.9801 - val_loss: 0.4687 - val_acc: 0.9266\n",
      "Epoch 80/100\n",
      " - 3s - loss: 0.0637 - acc: 0.9809 - val_loss: 0.4477 - val_acc: 0.9284\n",
      "Epoch 81/100\n",
      " - 3s - loss: 0.0643 - acc: 0.9809 - val_loss: 0.4579 - val_acc: 0.9297\n",
      "Epoch 82/100\n",
      " - 3s - loss: 0.0622 - acc: 0.9814 - val_loss: 0.4435 - val_acc: 0.9300\n",
      "Epoch 83/100\n",
      " - 3s - loss: 0.0510 - acc: 0.9847 - val_loss: 0.4647 - val_acc: 0.9297\n",
      "Epoch 84/100\n",
      " - 3s - loss: 0.0586 - acc: 0.9844 - val_loss: 0.4575 - val_acc: 0.9278\n",
      "Epoch 85/100\n",
      " - 3s - loss: 0.0494 - acc: 0.9859 - val_loss: 0.4608 - val_acc: 0.9306\n",
      "Epoch 86/100\n",
      " - 3s - loss: 0.0519 - acc: 0.9847 - val_loss: 0.4810 - val_acc: 0.9284\n",
      "Epoch 87/100\n",
      " - 3s - loss: 0.0483 - acc: 0.9847 - val_loss: 0.4712 - val_acc: 0.9309\n",
      "Epoch 88/100\n",
      " - 3s - loss: 0.0502 - acc: 0.9832 - val_loss: 0.4663 - val_acc: 0.9294\n",
      "Epoch 89/100\n",
      " - 3s - loss: 0.0501 - acc: 0.9843 - val_loss: 0.4592 - val_acc: 0.9300\n",
      "Epoch 90/100\n",
      " - 3s - loss: 0.0533 - acc: 0.9833 - val_loss: 0.4569 - val_acc: 0.9284\n",
      "Epoch 91/100\n",
      " - 3s - loss: 0.0502 - acc: 0.9860 - val_loss: 0.4505 - val_acc: 0.9322\n",
      "Epoch 92/100\n",
      " - 3s - loss: 0.0476 - acc: 0.9860 - val_loss: 0.4486 - val_acc: 0.9347\n",
      "Epoch 93/100\n",
      " - 3s - loss: 0.0481 - acc: 0.9874 - val_loss: 0.4569 - val_acc: 0.9284\n",
      "Epoch 94/100\n",
      " - 3s - loss: 0.0456 - acc: 0.9875 - val_loss: 0.4553 - val_acc: 0.9328\n",
      "Epoch 95/100\n",
      " - 3s - loss: 0.0451 - acc: 0.9859 - val_loss: 0.4668 - val_acc: 0.9322\n",
      "Epoch 96/100\n",
      " - 3s - loss: 0.0440 - acc: 0.9863 - val_loss: 0.4663 - val_acc: 0.9309\n"
     ]
    },
    {
     "name": "stdout",
     "output_type": "stream",
     "text": [
      "Epoch 97/100\n",
      " - 3s - loss: 0.0471 - acc: 0.9852 - val_loss: 0.4666 - val_acc: 0.9309\n",
      "Epoch 98/100\n",
      " - 3s - loss: 0.0451 - acc: 0.9860 - val_loss: 0.4696 - val_acc: 0.9303\n",
      "Epoch 99/100\n",
      " - 3s - loss: 0.0432 - acc: 0.9879 - val_loss: 0.4649 - val_acc: 0.9313\n",
      "Epoch 100/100\n",
      " - 3s - loss: 0.0450 - acc: 0.9875 - val_loss: 0.4670 - val_acc: 0.9309\n"
     ]
    }
   ],
   "source": [
    "history = model.fit(\n",
    "    X_train, \n",
    "    y_train, \n",
    "    batch_size=batch_size, \n",
    "    epochs=epochs, validation_data=(X_test, y_test), \n",
    "    shuffle=True, \n",
    "    verbose=2\n",
    ")"
   ]
  },
  {
   "cell_type": "code",
   "execution_count": 15,
   "metadata": {},
   "outputs": [
    {
     "name": "stdout",
     "output_type": "stream",
     "text": [
      "Accuracy : 0.99\n",
      "Valid Accuracy : 0.93\n"
     ]
    }
   ],
   "source": [
    "print(\"Accuracy : %.2f\" % history.history[\"acc\"][-1])\n",
    "print(\"Valid Accuracy : %.2f\" % history.history[\"val_acc\"][-1])"
   ]
  },
  {
   "cell_type": "code",
   "execution_count": 16,
   "metadata": {},
   "outputs": [],
   "source": [
    "# Saving Model and Weights\n",
    "model_json = model.to_json()\n",
    "with open(\"./d2_model.json\", \"w\") as json_file:\n",
    "    json_file.write(model_json)\n",
    "\n",
    "model.save_weights(\"./d2_weights.h5\")"
   ]
  },
  {
   "cell_type": "markdown",
   "metadata": {},
   "source": [
    "### Predict Data"
   ]
  },
  {
   "cell_type": "code",
   "execution_count": 17,
   "metadata": {},
   "outputs": [],
   "source": [
    "y_pred = model.predict(reshaped_dataset)\n",
    "y_pred_label = np.argmax(y_pred, axis=1)"
   ]
  },
  {
   "cell_type": "code",
   "execution_count": 18,
   "metadata": {},
   "outputs": [
    {
     "data": {
      "text/plain": [
       "array([134, 134, 134, ..., 111, 111, 111], dtype=int64)"
      ]
     },
     "execution_count": 18,
     "metadata": {},
     "output_type": "execute_result"
    }
   ],
   "source": [
    "y_pred_label"
   ]
  },
  {
   "cell_type": "markdown",
   "metadata": {},
   "source": [
    "### Save to files"
   ]
  },
  {
   "cell_type": "code",
   "execution_count": 19,
   "metadata": {},
   "outputs": [],
   "source": [
    "# Writing to .txt\n",
    "f = open(\"./labels_pred.txt\", \"w\")\n",
    "for label in y_pred_label:\n",
    "    label_input = str(label)\n",
    "    f.write(label_input + \"\\n\")\n",
    "f.close()"
   ]
  },
  {
   "cell_type": "code",
   "execution_count": 20,
   "metadata": {},
   "outputs": [],
   "source": [
    "# Writing to .csv (with clustering)\n",
    "csv_dict = {\"file_name\": df[\"file_name\"], \"labels_pred\": y_pred_label}\n",
    "df_csv = pd.DataFrame(data=csv_dict)\n",
    "df_csv.to_csv(\"./pred_db.csv\")"
   ]
  }
 ],
 "metadata": {
  "kernelspec": {
   "display_name": "Python 3",
   "language": "python",
   "name": "python3"
  },
  "language_info": {
   "codemirror_mode": {
    "name": "ipython",
    "version": 3
   },
   "file_extension": ".py",
   "mimetype": "text/x-python",
   "name": "python",
   "nbconvert_exporter": "python",
   "pygments_lexer": "ipython3",
   "version": "3.5.6"
  }
 },
 "nbformat": 4,
 "nbformat_minor": 2
}
